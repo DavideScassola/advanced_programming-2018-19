{
 "cells": [
  {
   "cell_type": "code",
   "execution_count": 28,
   "metadata": {},
   "outputs": [],
   "source": [
    "class MyRange():\n",
    "          \n",
    "    def __init__(self, start, stop, step=1):\n",
    "        self.my = range(start, stop, step)\n",
    "        \n",
    "def myrange(*args):\n",
    "    n_args = len(args)\n",
    "    if n_args not in [1,2,3]:\n",
    "        raise TypeError(str(n_args) + \" is not a correct number of arguments\")\n",
    "    if n_args==3:   \n",
    "        return MyRange(args[0],args[1],args[2]).my\n",
    "    elif n_args==2:\n",
    "        return MyRange(args[0],args[1]).my\n",
    "    elif n_args==1:\n",
    "        return MyRange(0,args[0]).my\n",
    "            "
   ]
  },
  {
   "cell_type": "code",
   "execution_count": 29,
   "metadata": {},
   "outputs": [
    {
     "name": "stdout",
     "output_type": "stream",
     "text": [
      "0\n",
      "1\n",
      "2\n",
      "3\n",
      "4\n",
      "5\n",
      "6\n",
      "7\n"
     ]
    }
   ],
   "source": [
    "for i in myrange(8):\n",
    "    print(i)"
   ]
  },
  {
   "cell_type": "code",
   "execution_count": 6,
   "metadata": {},
   "outputs": [
    {
     "name": "stdout",
     "output_type": "stream",
     "text": [
      "__enter__\n",
      "3.9606364850005775\n",
      "__exit__\n"
     ]
    }
   ],
   "source": [
    "class TimeCounter:\n",
    "    def __enter__(self): # no other arguments\n",
    "        print(\"__enter__\")\n",
    "        import time\n",
    "        self.start_time = time.perf_counter()\n",
    "    \n",
    "    def __exit__(self, exc_type, exc_value, traceback):\n",
    "        import time\n",
    "        self.end_time = time.perf_counter()\n",
    "        time_elapsed = - self.start_time + self.end_time\n",
    "        print(time_elapsed)\n",
    "        print(\"__exit__\")\n",
    "    \n",
    "with TimeCounter() as t:\n",
    "    a = 0\n",
    "    for i in range(1,8500):\n",
    "        a = (i**a)%(a+i)\n",
    "            "
   ]
  }
 ],
 "metadata": {
  "kernelspec": {
   "display_name": "Python 3",
   "language": "python",
   "name": "python3"
  }
 },
 "nbformat": 4,
 "nbformat_minor": 2
}
